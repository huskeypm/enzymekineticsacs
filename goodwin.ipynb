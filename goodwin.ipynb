{
 "metadata": {
  "name": "goodwin"
 }, 
 "nbformat": 2, 
 "worksheets": [
  {
   "cells": [
    {
     "cell_type": "markdown", 
     "source": [
      "based on", 
      "http://www.math.uwaterloo.ca/~bingalls/MMSB/Code/matlab/Goodwin_oscillator.m"
     ]
    }, 
    {
     "cell_type": "code", 
     "collapsed": true, 
     "input": [
      "import scipy", 
      "", 
      "#assign parameter values", 
      "## Original", 
      "#a1=360;", 
      "#kappa1=43;", 
      "#k1=1;", 
      "#b1=1;", 
      "#alpha1=1;", 
      "#beta1=0.6;", 
      "#gamma1=1;", 
      "#delta1=0.8;", 
      "#n=12   # no lower than 10 for oscillations ", 
      "", 
      "", 
      "# also oscillatory", 
      "a1=5;", 
      "kappa1=1.;", 
      "k1=1;", 
      "b1=1.;", 
      "alpha1=1;", 
      "beta1=1.; #0.6;", 
      "gamma1=1;", 
      "delta1=1; #0.8;", 
      "n=12."
     ], 
     "language": "python", 
     "outputs": [], 
     "prompt_number": 1
    }, 
    {
     "cell_type": "code", 
     "collapsed": true, 
     "input": [
      "import scipy.integrate"
     ], 
     "language": "python", 
     "outputs": [], 
     "prompt_number": 2
    }, 
    {
     "cell_type": "code", 
     "collapsed": true, 
     "input": [
      "#dynamics of Goodwin model", 
      "def goodwinmodel(t,y0,a,title=\"\"): ", 
      "  def f(y,t,a):", 
      "        X=y[0]", 
      "        Y=y[1]", 
      "        Z=y[2]", 
      " ", 
      "", 
      "        #dt =[a1/(kappa1+k1*Z**n) - b1*X,  alpha1*X - beta1*Y, gamma1*Y - delta1*Z]", 
      "        #dt =[a1/(kappa1+k1*Z**n),0,0]", 
      "        dt =[a1/(kappa1+k1*Z**n)-b1*X,0,0]", 
      "        return dt", 
      "", 
      "  figure()", 
      "  subplot(1,2,1)", 
      "  plt.title(title)", 
      "  y = scipy.integrate.odeint(f,y0,t,args=(a,))", 
      "  plot(t,y[:,0],\"b-\",label=\"x\")", 
      "  plot(t,y[:,1],\"r-\",label=\"z\")", 
      "  ylabel(\"$[y_i]$\")", 
      "  xlabel(\"t\")", 
      "  legend(loc=0)", 
      "                 ", 
      "  subplot(1,2,2)", 
      "  y = scipy.integrate.odeint(f,y0,t,args=(a,))", 
      "  plot(y[:,0],y[:,1])", 
      "  ylabel(\"z\")", 
      "  xlabel(\"x\")", 
      "  xlim([0,6])", 
      "  ylim([0,25])", 
      "          "
     ], 
     "language": "python", 
     "outputs": [], 
     "prompt_number": 27
    }, 
    {
     "cell_type": "code", 
     "collapsed": false, 
     "input": [
      "a1=1; # v0 ", 
      "kappa1=1.; ", 
      "k1=1; # iKm = 1/Km", 
      "b1=1.;", 
      "alpha1=1;", 
      "beta1=1.; #0.6;", 
      "gamma1=1;", 
      "delta1=1. ; #0.8;", 
      "n=1.", 
      "", 
      "#t = scipy.linspace(0.,100.,1000)", 
      "t = scipy.linspace(0.,10.,10)", 
      "y0=[0,0,1]", 
      "ks = [0]", 
      "goodwinmodel(t,y0,ks)"
     ], 
     "language": "python", 
     "outputs": [
      {
       "output_type": "display_data", 
       "png": "[encoded data removed]"
      }
     ], 
     "prompt_number": 31
    }, 
    {
     "cell_type": "code", 
     "collapsed": false, 
     "input": [
      "", 
      "", 
      "#set simulation parameters", 
      "Tend=35", 
      "ODEFUN=@goodwinddt;", 
      "options=odeset('Refine', 6);", 
      "", 
      "%set initial condition: state = [X, Y, Z]", 
      "x0=[0 0 0]';", 
      "%run simulation", 
      "[t,s]=ode45(ODEFUN, [0,Tend], x0, options);", 
      "", 
      "%generate figure 7.17A", 
      "figure(1)", 
      "set(gca,'fontsize',14)", 
      "plot(t,s(:,1), 'k',t,s(:,2), 'k--',t, s(:,3), 'k:','Linewidth', 3)", 
      " xlabel('Time (arbitrary units)')", 
      " ylabel('Concentration (arbitrary units)')", 
      " legend('mRNA (X)', 'enzyme (Y)', 'metabolite (Z)')", 
      "str1(1) = {'A'};", 
      "text(-3.5,6,str1, 'Fontsize', 40)", 
      "", 
      "%run simulations for figure 7.17B", 
      "", 
      " [t1,s1] = ode15s(ODEFUN,[0,Tend], [0,0,0]);", 
      " [t2,s2] = ode15s(ODEFUN,[0,Tend], [0,2.5,0]);", 
      " [t3,s3] = ode15s(ODEFUN,[0,Tend], [0,5,0]);"
     ], 
     "language": "python", 
     "outputs": [
      {
       "ename": "SyntaxError", 
       "evalue": "invalid syntax (<ipython-input-43-273b9e3d8b6e>, line 5)", 
       "output_type": "pyerr", 
       "traceback": [
        "\u001b[0;36m  File \u001b[0;32m\"<ipython-input-43-273b9e3d8b6e>\"\u001b[0;36m, line \u001b[0;32m5\u001b[0m\n\u001b[0;31m    ODEFUN=@goodwinddt;\u001b[0m\n\u001b[0m           ^\u001b[0m\n\u001b[0;31mSyntaxError\u001b[0m\u001b[0;31m:\u001b[0m invalid syntax\n"
       ]
      }
     ], 
     "prompt_number": 43
    }, 
    {
     "cell_type": "code", 
     "collapsed": true, 
     "input": [], 
     "language": "python", 
     "outputs": []
    }
   ]
  }
 ]
}