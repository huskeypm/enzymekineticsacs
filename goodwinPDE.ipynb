{
 "metadata": {
  "name": "",
  "signature": "sha256:ebc1743b0286adec8d67327030fe9088d3548563e17a2b17bddd29e3cdde4d13"
 },
 "nbformat": 3,
 "nbformat_minor": 0,
 "worksheets": [
  {
   "cells": [
    {
     "cell_type": "markdown",
     "metadata": {},
     "source": [
      "\n",
      "# <font color=red>WARNING: not support with newest version of FEniCS, so run on VM</font>\n",
      "\n",
      "### Goodwin data for manuscript\n",
      "\n",
      "Todo\n",
      "\n",
      "- figure out how to vary barrier distance (preserve barrier/compartment surface area or preserve barrier volume)\n",
      "- add any other missing figures"
     ]
    },
    {
     "cell_type": "markdown",
     "metadata": {},
     "source": [
      "### Goodwin \n",
      "<code>\n",
      "f(C) --> A \n",
      "A --> B\n",
      "B --> C\n",
      "</code>    \n",
      "    "
     ]
    },
    {
     "cell_type": "markdown",
     "metadata": {},
     "source": [
      "#### Partitioned, with exponentiated dependency on C (to generate oscillations) \n",
      "<code>\n",
      "  \n",
      "1: -->A, A-->B\n",
      "2: B-->C\n",
      "</code>    "
     ]
    },
    {
     "cell_type": "markdown",
     "metadata": {},
     "source": [
      "#### Replaces Figure 2 "
     ]
    },
    {
     "cell_type": "code",
     "collapsed": false,
     "input": [
      "%load_ext autoreload\n",
      "%autoreload 2 "
     ],
     "language": "python",
     "metadata": {},
     "outputs": [],
     "prompt_number": 1
    },
    {
     "cell_type": "markdown",
     "metadata": {},
     "source": [
      "Load all cases \n",
      "\n",
      "python paper.py -run all"
     ]
    },
    {
     "cell_type": "code",
     "collapsed": false,
     "input": [
      "if 1:\n",
      "    # load pickle\n",
      "    import cPickle as pickle\n",
      "\n",
      "    pkl_file = open('resultsFast.pkl', 'rb')\n",
      "    resultsFast = pickle.load(pkl_file)['results']\n",
      "    #pkl_file = open('resultsSlow.pkl', 'rb')\n",
      "    #resultsSlow = pickle.load(pkl_file)['results']\n",
      "    pkl_file = open('resultsWater.pkl', 'rb')\n",
      "    resultsSlow = pickle.load(pkl_file)['results']\n",
      "    pkl_file = open('resultsWaterB100.pkl', 'rb')\n",
      "    resultsWaterB100 = pickle.load(pkl_file)['results']\n",
      "    \n",
      "    tode = resultsWaterB100.tode\n",
      "    yode = resultsWaterB100.yode\n",
      "    \n",
      "\n",
      "    pkl_file = open('resultsCslow.pkl', 'rb')\n",
      "    resultsCslow = pickle.load(pkl_file)['results']\n",
      "\n",
      "    pkl_file = open('resultsABslowCveryslow.pkl', 'rb')\n",
      "    resultsABslowCveryslow = pickle.load(pkl_file)['results']  \n",
      "    \n",
      "    pkl_file = open('resultsAllslow.pkl', 'rb')\n",
      "    resultsAllslow = pickle.load(pkl_file)['results']    \n",
      "    \n",
      "    pkl_file = open('resultsABslowCfast.pkl', 'rb')\n",
      "    resultsABslowCfast = pickle.load(pkl_file)['results']    "
     ],
     "language": "python",
     "metadata": {},
     "outputs": [
      {
       "ename": "IOError",
       "evalue": "[Errno 2] No such file or directory: 'resultsABslowCfast.pkl'",
       "output_type": "pyerr",
       "traceback": [
        "\u001b[0;31m---------------------------------------------------------------------------\u001b[0m\n\u001b[0;31mIOError\u001b[0m                                   Traceback (most recent call last)",
        "\u001b[0;32m<ipython-input-40-47976fefbd0e>\u001b[0m in \u001b[0;36m<module>\u001b[0;34m()\u001b[0m\n\u001b[1;32m     25\u001b[0m     \u001b[0mresultsAllslow\u001b[0m \u001b[0;34m=\u001b[0m \u001b[0mpickle\u001b[0m\u001b[0;34m.\u001b[0m\u001b[0mload\u001b[0m\u001b[0;34m(\u001b[0m\u001b[0mpkl_file\u001b[0m\u001b[0;34m)\u001b[0m\u001b[0;34m[\u001b[0m\u001b[0;34m'results'\u001b[0m\u001b[0;34m]\u001b[0m\u001b[0;34m\u001b[0m\u001b[0m\n\u001b[1;32m     26\u001b[0m \u001b[0;34m\u001b[0m\u001b[0m\n\u001b[0;32m---> 27\u001b[0;31m     \u001b[0mpkl_file\u001b[0m \u001b[0;34m=\u001b[0m \u001b[0mopen\u001b[0m\u001b[0;34m(\u001b[0m\u001b[0;34m'resultsABslowCfast.pkl'\u001b[0m\u001b[0;34m,\u001b[0m \u001b[0;34m'rb'\u001b[0m\u001b[0;34m)\u001b[0m\u001b[0;34m\u001b[0m\u001b[0m\n\u001b[0m\u001b[1;32m     28\u001b[0m     \u001b[0mresultsABslowCfast\u001b[0m \u001b[0;34m=\u001b[0m \u001b[0mpickle\u001b[0m\u001b[0;34m.\u001b[0m\u001b[0mload\u001b[0m\u001b[0;34m(\u001b[0m\u001b[0mpkl_file\u001b[0m\u001b[0;34m)\u001b[0m\u001b[0;34m[\u001b[0m\u001b[0;34m'results'\u001b[0m\u001b[0;34m]\u001b[0m\u001b[0;34m\u001b[0m\u001b[0m\n",
        "\u001b[0;31mIOError\u001b[0m: [Errno 2] No such file or directory: 'resultsABslowCfast.pkl'"
       ]
      }
     ],
     "prompt_number": 40
    },
    {
     "cell_type": "code",
     "collapsed": true,
     "input": [
      "# VM\n",
      "#root = \"/home/huskeypm/papers/changsunpapers/compartment/figs/\"\n",
      "# kafka\n",
      "root = \"/home/AD/pmke226/papers/changsunpapers/compartment/figs/\"\n",
      "\n",
      "# Must run with params.paraview=True to get this to work \n",
      "# Note: i stored pkl results in a funky way, so I need to use different\n",
      "# indices if I'm passing along results from a pkl versus those passed directly\n",
      "# from the simulation \n",
      "def plotLineScans(results,figName=\"none\",sameClim=False,fromPKL=True):\n",
      "    um_to_nm=1000.\n",
      "    climdim=np.zeros(2)\n",
      "    \n",
      "    plt.figure() \n",
      "    for i,species in enumerate([\"A\",\"B\",\"C\"]):\n",
      "      if species==\"A\":\n",
      "        lines=np.array(results.linesAr.A) \n",
      "      if species==\"B\":\n",
      "        lines=np.array(results.linesAr.B)\n",
      "      if species==\"C\":\n",
      "        lines=np.array(results.linesAr.C)      \n",
      "\n",
      "        \n",
      "      s= np.shape(lines)\n",
      "      xs = np.linspace(0,results.params.meshDim[0],s[1])\n",
      "      ts = results.ts\n",
      "    \n",
      "\n",
      "      plt.subplot(1,3,i+1)\n",
      "      plt.title(\"[%s]\"%species) \n",
      "      # need to redo x/y indixes as matrices (for later) \n",
      "      #plt.pcolormesh(xs*um_to_nm,ts,lines)\n",
      "      if fromPKL:\n",
      "        pcolormesh(xs*um_to_nm,ts[1:],lines)\n",
      "      else:\n",
      "        pcolormesh(xs*um_to_nm,ts[:-2],lines)    \n",
      "      plt.colorbar()\n",
      "      if sameClim:\n",
      "        lines=np.array(results.linesAr.A) \n",
      "        climdim[0]=np.min(lines)\n",
      "        climdim[1]=np.max(lines)\n",
      "        lines=np.array(results.linesAr.B) \n",
      "        climdim[0]=np.min([climdim[0],np.min(lines)])\n",
      "        climdim[1]=np.max([climdim[1],np.max(lines)])        \n",
      "        lines=np.array(results.linesAr.C)      \n",
      "        climdim[0]=np.min([climdim[0],np.min(lines)])\n",
      "        climdim[1]=np.max([climdim[1],np.max(lines)])       \n",
      "        plt.clim(climdim)\n",
      "        \n",
      "      #plt.clim([1.9,2.1])\n",
      "      if i==0:\n",
      "        plt.ylabel(\"time [ms]\")\n",
      "      else:\n",
      "        plt.yticks([])\n",
      "      plt.xlabel(\"x [nm]\") \n",
      "       \n",
      "      if(figName!=\"none\"):\n",
      "            plt.gcf().savefig(figName,dpi=300)"
     ],
     "language": "python",
     "metadata": {},
     "outputs": [],
     "prompt_number": 2
    },
    {
     "cell_type": "code",
     "collapsed": false,
     "input": [
      "Dwater = 2.6 # um2/ms (see paper) \n",
      "DATPbulk = 0.183 # um2/ms\n",
      "DATP = 0.145 # um2/ms\n",
      "dt = 0.03 # varies below []\n",
      "from coupledReactionDiffusion3comp import *\n",
      "if 0:\n",
      "     steps = 501\n",
      "#     steps = 201   \n",
      "#    resultsFast, tode, yode = figA(steps =501, dt = 0.03,doplot=0,DAb=1e9,DBb=1e9,DCb=1e9)\n",
      "#    resultsSlow, tode, yode = figA(steps =501, dt = 0.03,doplot=0,DAb=1e2,DBb=1e2,DCb=1e2)\n",
      "     \n",
      "     resultsFast, tode, yode = figA(\\\n",
      "       steps =steps, dt = 0.03,doplot=0,DAb=1e9,DBb=1e9,DCb=1e9,barrierLength=0.01,paraview=True)\n",
      "     resultsWater, tode, yode = figA(\\\n",
      "       steps =steps, dt = 0.03,doplot=0,DAb=Dwater,DBb=Dwater,DCb=Dwater,barrierLength=0.01,paraview=True)\n",
      "\n",
      "     # large barrier \n",
      "     steps = 1501\n",
      "     resultsWaterB100, tode, yode = figA(\\\n",
      "       steps =steps, dt = 0.05,doplot=0,DAb=Dwater,DBb=Dwater,DCb=Dwater,barrierLength=0.1,paraview=True)\n"
     ],
     "language": "python",
     "metadata": {},
     "outputs": [],
     "prompt_number": 37
    },
    {
     "cell_type": "code",
     "collapsed": false,
     "input": [
      "resultsWaterB100.yode"
     ],
     "language": "python",
     "metadata": {},
     "outputs": [
      {
       "metadata": {},
       "output_type": "pyout",
       "prompt_number": 38,
       "text": [
        "array([[ 2.        ,  1.5       ,  1.        ],\n",
        "       [ 2.01527861,  1.52485509,  1.02501465],\n",
        "       [ 2.01239696,  1.54878735,  1.05000232],\n",
        "       ..., \n",
        "       [ 1.18966189,  1.4485735 ,  1.28214811],\n",
        "       [ 1.1429602 ,  1.43478273,  1.28993743],\n",
        "       [ 1.09782952,  1.41942416,  1.29663438]])"
       ]
      }
     ],
     "prompt_number": 38
    },
    {
     "cell_type": "markdown",
     "metadata": {},
     "source": [
      "## Data\n",
      "### fisr figs\n",
      "3comp.py(FirstFigs)"
     ]
    },
    {
     "cell_type": "code",
     "collapsed": false,
     "input": [
      "import plotting\n",
      "root = \"./\"\n",
      "results = resultsFast    \n",
      "plt.figure(figsize=(10.0, 8.0))\n",
      "plotting.plotconcs1(results.ts,results.concs)\n",
      "plotting.plotconcs2Barrier(results.ts,results.concs)\n",
      "plotting.plotconcs3(results.ts,results.concs)\n",
      "plt.title(\"Well-mixed (D=1e9 um2/ms)\") \n",
      "plt.gcf().savefig(root+\"acsfig2a.png\",dpi=300)    \n",
      "\n",
      "if 1:\n",
      "  plt.figure()\n",
      "  plotting.plotconcssum(results.ts,results.concs,results.volFracs)\n",
      "  plotting.plotODE(tode,yode)\n",
      "  plt.gcf().savefig(root+\"acsfig2apdeode.png\",dpi=300)    \n",
      "  plt.xlim([0.,16])\n",
      "#resultsCslow\n",
      "resultsABslowCveryslow\n",
      "resultsAllslow\n",
      "resultsABslowCfast\n",
      "  plotLineScans(results,figName=root+\"linescanfastdiffN.png\",sameClim=True)  \n",
      "  plotLineScans(results,figName=root+\"linescanfastdiff.png\")"
     ],
     "language": "python",
     "metadata": {},
     "outputs": [
      {
       "ename": "AttributeError",
       "evalue": "empty instance has no attribute 'linesAr'",
       "output_type": "pyerr",
       "traceback": [
        "\u001b[0;31m---------------------------------------------------------------------------\u001b[0m\n\u001b[0;31mAttributeError\u001b[0m                            Traceback (most recent call last)",
        "\u001b[0;32m<ipython-input-39-9d4d4b89fbb5>\u001b[0m in \u001b[0;36m<module>\u001b[0;34m()\u001b[0m\n\u001b[1;32m     16\u001b[0m   \u001b[0mplt\u001b[0m\u001b[0;34m.\u001b[0m\u001b[0mxlim\u001b[0m\u001b[0;34m(\u001b[0m\u001b[0;34m[\u001b[0m\u001b[0;36m0.\u001b[0m\u001b[0;34m,\u001b[0m\u001b[0;36m16\u001b[0m\u001b[0;34m]\u001b[0m\u001b[0;34m)\u001b[0m\u001b[0;34m\u001b[0m\u001b[0m\n\u001b[1;32m     17\u001b[0m \u001b[0;34m\u001b[0m\u001b[0m\n\u001b[0;32m---> 18\u001b[0;31m   \u001b[0mplotLineScans\u001b[0m\u001b[0;34m(\u001b[0m\u001b[0mresults\u001b[0m\u001b[0;34m,\u001b[0m\u001b[0mfigName\u001b[0m\u001b[0;34m=\u001b[0m\u001b[0mroot\u001b[0m\u001b[0;34m+\u001b[0m\u001b[0;34m\"linescanfastdiffN.png\"\u001b[0m\u001b[0;34m,\u001b[0m\u001b[0msameClim\u001b[0m\u001b[0;34m=\u001b[0m\u001b[0mTrue\u001b[0m\u001b[0;34m)\u001b[0m\u001b[0;34m\u001b[0m\u001b[0m\n\u001b[0m\u001b[1;32m     19\u001b[0m   \u001b[0mplotLineScans\u001b[0m\u001b[0;34m(\u001b[0m\u001b[0mresults\u001b[0m\u001b[0;34m,\u001b[0m\u001b[0mfigName\u001b[0m\u001b[0;34m=\u001b[0m\u001b[0mroot\u001b[0m\u001b[0;34m+\u001b[0m\u001b[0;34m\"linescanfastdiff.png\"\u001b[0m\u001b[0;34m)\u001b[0m\u001b[0;34m\u001b[0m\u001b[0m\n",
        "\u001b[0;32m<ipython-input-2-99bcec186a08>\u001b[0m in \u001b[0;36mplotLineScans\u001b[0;34m(results, figName, sameClim, fromPKL)\u001b[0m\n\u001b[1;32m     15\u001b[0m     \u001b[0;32mfor\u001b[0m \u001b[0mi\u001b[0m\u001b[0;34m,\u001b[0m\u001b[0mspecies\u001b[0m \u001b[0;32min\u001b[0m \u001b[0menumerate\u001b[0m\u001b[0;34m(\u001b[0m\u001b[0;34m[\u001b[0m\u001b[0;34m\"A\"\u001b[0m\u001b[0;34m,\u001b[0m\u001b[0;34m\"B\"\u001b[0m\u001b[0;34m,\u001b[0m\u001b[0;34m\"C\"\u001b[0m\u001b[0;34m]\u001b[0m\u001b[0;34m)\u001b[0m\u001b[0;34m:\u001b[0m\u001b[0;34m\u001b[0m\u001b[0m\n\u001b[1;32m     16\u001b[0m       \u001b[0;32mif\u001b[0m \u001b[0mspecies\u001b[0m\u001b[0;34m==\u001b[0m\u001b[0;34m\"A\"\u001b[0m\u001b[0;34m:\u001b[0m\u001b[0;34m\u001b[0m\u001b[0m\n\u001b[0;32m---> 17\u001b[0;31m         \u001b[0mlines\u001b[0m\u001b[0;34m=\u001b[0m\u001b[0mnp\u001b[0m\u001b[0;34m.\u001b[0m\u001b[0marray\u001b[0m\u001b[0;34m(\u001b[0m\u001b[0mresults\u001b[0m\u001b[0;34m.\u001b[0m\u001b[0mlinesAr\u001b[0m\u001b[0;34m.\u001b[0m\u001b[0mA\u001b[0m\u001b[0;34m)\u001b[0m\u001b[0;34m\u001b[0m\u001b[0m\n\u001b[0m\u001b[1;32m     18\u001b[0m       \u001b[0;32mif\u001b[0m \u001b[0mspecies\u001b[0m\u001b[0;34m==\u001b[0m\u001b[0;34m\"B\"\u001b[0m\u001b[0;34m:\u001b[0m\u001b[0;34m\u001b[0m\u001b[0m\n\u001b[1;32m     19\u001b[0m         \u001b[0mlines\u001b[0m\u001b[0;34m=\u001b[0m\u001b[0mnp\u001b[0m\u001b[0;34m.\u001b[0m\u001b[0marray\u001b[0m\u001b[0;34m(\u001b[0m\u001b[0mresults\u001b[0m\u001b[0;34m.\u001b[0m\u001b[0mlinesAr\u001b[0m\u001b[0;34m.\u001b[0m\u001b[0mB\u001b[0m\u001b[0;34m)\u001b[0m\u001b[0;34m\u001b[0m\u001b[0m\n",
        "\u001b[0;31mAttributeError\u001b[0m: empty instance has no attribute 'linesAr'"
       ]
      },
      {
       "metadata": {},
       "output_type": "display_data",
       "text": [
        "<matplotlib.figure.Figure at 0x7f64017efed0>"
       ]
      },
      {
       "metadata": {},
       "output_type": "display_data",
       "png": "[encoded data removed]",
       "text": [
        "<matplotlib.figure.Figure at 0x7f64017ef190>"
       ]
      },
      {
       "metadata": {},
       "output_type": "display_data",
       "png": "[encoded data removed]",
       "text": [
        "<matplotlib.figure.Figure at 0x7f6401a860d0>"
       ]
      },
      {
       "metadata": {},
       "output_type": "display_data",
       "text": [
        "<matplotlib.figure.Figure at 0x7f64019d5290>"
       ]
      }
     ],
     "prompt_number": 39
    },
    {
     "cell_type": "code",
     "collapsed": false,
     "input": [
      "results = resultsWater\n",
      "plt.figure()\n",
      "plotconcs1(results.ts,results.concs)\n",
      "plotconcs2Barrier(results.ts,results.concs)\n",
      "plotconcs3(results.ts,results.concs)\n",
      "plt.gcf().savefig(root+\"acsfig2b.png\",dpi=300)    \n",
      "plt.title(\"Bulk water self-diffusion (D=2.6 um2/ms)\") \n",
      "\n",
      "plt.figure()\n",
      "plotconcssum(results.ts,results.concs,results.volFracs)\n",
      "plotODE(results.tode,results.yode)\n",
      "plt.xlim([0.,16])\n",
      "#plt.gcf().savefig(root+\"acsfig2apdeode.png\",dpi=300) \n",
      "\n",
      "plotLineScans(results,figName=root+\"linescanwaterdiffN.png\",sameClim=True)    \n",
      "plotLineScans(results,figName=root+\"linescanwaterdiff.png\")"
     ],
     "language": "python",
     "metadata": {},
     "outputs": [],
     "prompt_number": 25
    },
    {
     "cell_type": "code",
     "collapsed": false,
     "input": [
      "results = resultsWaterB100\n",
      "plt.figure()\n",
      "plotconcs1(results.ts,results.concs)\n",
      "plotconcs2Barrier(results.ts,results.concs)\n",
      "plotconcs3(results.ts,results.concs)\n",
      "plt.gcf().savefig(root+\"acsfig2bB100.png\",dpi=300)    \n",
      "plt.title(\"Bulk water self-diffusion (D=2.5 um2/ms), Barrier=100 nm\") \n",
      "plt.figure()\n",
      "plotconcssum(results.ts,results.concs,results.volFracs)\n",
      "plotODE(tode,yode)\n",
      "plt.xlim([0.,16])\n",
      "#plt.gcf().savefig(root+\"acsfig2apdeode.png\",dpi=300) \n",
      "\n",
      "plotLineScans(results,figName=root+\"linescanwaterB100diffN.png\",sameClim=True)    \n",
      "plotLineScans(results,figName=root+\"linescanwaterB100diff.png\")"
     ],
     "language": "python",
     "metadata": {},
     "outputs": [],
     "prompt_number": 26
    },
    {
     "cell_type": "markdown",
     "metadata": {},
     "source": [
      "### C slow relative to water "
     ]
    },
    {
     "cell_type": "code",
     "collapsed": false,
     "input": [
      "if 0:     \n",
      "    resultsCslow, tode, yode = figA(\\\n",
      "                                    #steps =501, dt = 0.03,doplot=0,DAb=1e3,DBb=1e2,DCb=1e3)\n",
      "      steps =701, dt = 0.03,doplot=0,DAb=Dwater,DBb=Dwater,DCb=DATP,barrierLength=0.01,paraview=True)\n",
      "results = resultsCslow\n",
      "plt.figure()\n",
      "plotconcssum(results.ts,results.concs,results.volFracs)\n",
      "plotODE(tode,yode)\n",
      "plotLineScans(results,figName=root+\"linescanwaterdiffCslow.png\",sameClim=True)\n",
      "plotLineScans(results,figName=root+\"linescanwaterdiffCslow.png\")"
     ],
     "language": "python",
     "metadata": {},
     "outputs": [],
     "prompt_number": 16
    },
    {
     "cell_type": "markdown",
     "metadata": {},
     "source": [
      "### All slow relative to water, C varies \n",
      "#### Test to get parameters right "
     ]
    },
    {
     "cell_type": "code",
     "collapsed": true,
     "input": [
      "from coupledReactionDiffusion3comp import *\n",
      "steps = 501 \n",
      "steps = 201\n",
      "dt = 0.03 # osc\n",
      "#dt = 0.01\n",
      "#Dref = 1e2\n",
      "dt = 0.03; scale = 0.5 # osc\n",
      "dt = 0.03; scale = 0.2; # osc \n",
      "#steps = 1501; dt = 0.01; scale = 0.1 # noosc\n",
      "Dref = DATP # [um^2/ms]"
     ],
     "language": "python",
     "metadata": {},
     "outputs": [],
     "prompt_number": 28
    },
    {
     "cell_type": "code",
     "collapsed": false,
     "input": [
      "\n",
      "if 0:\n",
      "    test, tode, yode = figA(steps =steps, dt = dt,doplot=0,\\\n",
      "           barrierLength=0.01,paraview=True,\\\n",
      "           #DAb=Dref,DBb=Dref,DCb=Dref*1.0)   \n",
      "           DAb=Dref,DBb=Dref,DCb=Dref*scale)    # 0.1 kills osc\n",
      "            \n",
      "            \n",
      "if 1:            \n",
      " results = test\n",
      " plt.figure()\n",
      " plt.title(\"test\")\n",
      " plotconcssum(results.ts,results.concs,results.volFracs)\n",
      " plotODE(tode,yode)\n",
      " plt.legend(loc=0)\n",
      " plotLineScans(results)"
     ],
     "language": "python",
     "metadata": {},
     "outputs": [],
     "prompt_number": 8
    },
    {
     "cell_type": "code",
     "collapsed": false,
     "input": [
      "steps = 1501\n",
      "\n",
      "scales = [0.1,1.0,10] # kills osc for 0.1\n",
      "scales = [0.5,1.0,2.] # osc \n",
      "scales = [0.2,1.0,5.] # osc\n",
      "if 0:     \n",
      "    resultsABslowCveryslow, tode, yode = figA(steps =steps, dt =dt,doplot=0,\\\n",
      "                                              barrierLength=0.01,paraview=True,\n",
      "                                              DAb=Dref,DBb=Dref,DCb=Dref*scales[0])\n",
      "    resultsAllslow, tode, yode = figA(steps =steps, dt = dt,doplot=0,\\\n",
      "                                              barrierLength=0.01,paraview=True,\n",
      "                                              DAb=Dref,DBb=Dref,DCb=Dref*scales[1])\n",
      "    resultsABslowCfast, tode, yode = figA(steps =steps, dt = dt,doplot=0,\\\n",
      "                                              barrierLength=0.01,paraview=True,\n",
      "                                              DAb=Dref,DBb=Dref,DCb=Dref*scales[2])\n",
      "    \n",
      "results = resultsABslowCveryslow\n",
      "plt.figure()\n",
      "plt.title(\"ABslowCveryslow\")\n",
      "plotconcssum(results.ts,results.concs,results.volFracs)\n",
      "plotODE(tode,yode)\n",
      "plotLineScans(results,figName=root+\"linescanABslowCveryslowN.png\",sameClim=True,fromPKL=False)  \n",
      "plotLineScans(results,figName=root+\"linescanABslowCveryslow.png\",fromPKL=False)\n",
      "              \n",
      "results = resultsAllslow\n",
      "plt.figure()\n",
      "plt.title(\"All slow\")\n",
      "plotconcssum(results.ts,results.concs,results.volFracs)\n",
      "plotODE(tode,yode)\n",
      "plotLineScans(results,figName=root+\"linescanAllslowN.png\",sameClim=True,fromPKL=False)  \n",
      "plotLineScans(results,figName=root+\"linescanAllslow.png\",fromPKL=False)  \n",
      "results = resultsABslowCfast\n",
      "plt.figure()\n",
      "plt.title(\"ABslowCfast\")\n",
      "plotconcssum(results.ts,results.concs,results.volFracs)\n",
      "plotODE(tode,yode)\n",
      "plotLineScans(results,figName=root+\"linescanABslowCfastN.png\",sameClim=True,fromPKL=False)  \n",
      "plotLineScans(results,figName=root+\"linescanABslowCfast.png\",fromPKL=False) "
     ],
     "language": "python",
     "metadata": {},
     "outputs": [],
     "prompt_number": 106
    },
    {
     "cell_type": "code",
     "collapsed": true,
     "input": [
      "root = \"/home/huskeypm/papers/changsunpapers/compartment/figs/\"\n",
      "\n",
      "\n",
      "# Must run with params.paraview=True to get this to work \n",
      "def plotLineScansX(results,figName=\"none\",sameClim=False):\n",
      "    um_to_nm=1000.\n",
      "    climdim=np.zeros(2)\n",
      "    \n",
      "    plt.figure() \n",
      "    for i,species in enumerate([\"A\"]):\n",
      "      if species==\"A\":\n",
      "        lines=np.array(results.linesAr.A) \n",
      "      if species==\"B\":\n",
      "        lines=np.array(results.linesAr.B)\n",
      "      if species==\"C\":\n",
      "        lines=np.array(results.linesAr.C)      \n",
      "\n",
      "        \n",
      "      s= np.shape(lines)\n",
      "      xs = np.linspace(0,results.params.meshDim[0],s[1])\n",
      "      ts = results.ts\n",
      "    \n",
      "\n",
      "      plt.subplot(1,3,i+1)\n",
      "      plt.title(\"[%s]\"%species) \n",
      "      # need to redo x/y indixes as matrices (for later) \n",
      "      #plt.pcolormesh(xs*um_to_nm,ts,lines)\n",
      "      #pcolormesh(xs*um_to_nm,ts[1:],lines)\n",
      "      plt.pcolormesh(xs,ts[:-2],lines)\n",
      "  \n",
      "      plt.colorbar()"
     ],
     "language": "python",
     "metadata": {},
     "outputs": [],
     "prompt_number": 101
    },
    {
     "cell_type": "code",
     "collapsed": false,
     "input": [
      "xt = np.arange(100)\n",
      "tt = np.arange(1501) \n",
      "xg,yg=np.meshgrid(xt,tt)"
     ],
     "language": "python",
     "metadata": {},
     "outputs": [],
     "prompt_number": 80
    },
    {
     "cell_type": "code",
     "collapsed": false,
     "input": [
      "l = np.array(resultsABslowCfast.linesAr.B)\n",
      "if 1:\n",
      "      s= np.shape(lines)\n",
      "      xs = np.linspace(0,results.params.meshDim[0],s[1])\n",
      "      ts = results.ts[:-2]\n",
      "      xga,yga = np.meshgrid(xt,ts)\n",
      "print np.shape(np.array(l))\n",
      "#plt.pcolormesh(l) #xs,ts[1:],l)\n",
      "#plt.pcolormesh(np.arange(100),np.arange(1501),l)\n",
      "plt.pcolormesh(xga,yga,l)\n",
      "plotLineScansX(resultsABslowCfast)\n",
      "\n",
      "print np.shape(xg)\n",
      "print np.shape(xga)\n",
      "print np.shape(ts)\n",
      "print np.shape(tt)\n",
      "print ts"
     ],
     "language": "python",
     "metadata": {},
     "outputs": [],
     "prompt_number": 102
    },
    {
     "cell_type": "code",
     "collapsed": false,
     "input": [
      "v = np.arange(10)\n",
      "print v\n",
      "print v[:-2]"
     ],
     "language": "python",
     "metadata": {},
     "outputs": [],
     "prompt_number": 98
    },
    {
     "cell_type": "code",
     "collapsed": false,
     "input": [
      "print np.shape(xs)\n",
      "print np.shape(xt)"
     ],
     "language": "python",
     "metadata": {},
     "outputs": [],
     "prompt_number": 85
    },
    {
     "cell_type": "code",
     "collapsed": false,
     "input": [
      "np.shape(xs)"
     ],
     "language": "python",
     "metadata": {},
     "outputs": [],
     "prompt_number": 75
    },
    {
     "cell_type": "code",
     "collapsed": false,
     "input": [],
     "language": "python",
     "metadata": {},
     "outputs": [],
     "prompt_number": 48
    },
    {
     "cell_type": "markdown",
     "metadata": {},
     "source": [
      "Here we are adjusting kinetic parameters to get reduced diff case to match w normal diff "
     ]
    },
    {
     "cell_type": "code",
     "collapsed": true,
     "input": [
      "resultsABslowCveryslowKmLow = resultsABslowCveryslowKmMod "
     ],
     "language": "python",
     "metadata": {},
     "outputs": [],
     "prompt_number": 24
    },
    {
     "cell_type": "code",
     "collapsed": false,
     "input": [
      "v = np.arange(10)\n",
      "v[:-2:]"
     ],
     "language": "python",
     "metadata": {},
     "outputs": [],
     "prompt_number": 11
    },
    {
     "cell_type": "code",
     "collapsed": false,
     "input": [
      "from coupledReactionDiffusion3comp import *\n",
      "dt=0.03\n",
      "#steps = 1501\n",
      "steps = 1501\n",
      "\n",
      "if 0:     \n",
      "    resultsABslowCveryslowKmLow, tode, yode = figA(steps =steps, dt =dt,doplot=0,\\\n",
      "                                              barrierLength=0.01,paraview=True,\n",
      "                                              Km=2.0,\n",
      "                                              DAb=Dref,DBb=Dref,DCb=Dref*scales[0])\n",
      "\n",
      "    resultsABslowCveryslow, tode, yode = figA(steps =steps, dt =dt,doplot=0,\\\n",
      "                                              barrierLength=0.01,paraview=True,\n",
      "                                              Km=1,\n",
      "                                              DAb=Dref,DBb=Dref,DCb=Dref*scales[0])            \n",
      "            \n",
      "    resultsABslowCveryslowKmHigh, tode, yode = figA(steps =steps, dt =dt,doplot=0,\\\n",
      "                                              barrierLength=0.01,paraview=True,\n",
      "                                              Km=0.5,#Km=0.2,\n",
      "        \n",
      "                                              DAb=Dref,DBb=Dref,DCb=Dref*scales[0])            \n",
      "            \n",
      "plt.plot(resultsABslowCveryslowKmLow.ts[:-1:],resultsABslowCveryslowKmLow.concs[:-1:,idxAl],label=\"KmLow\")   \n",
      "plt.plot(resultsABslowCveryslowKmHigh.ts[:-1:],resultsABslowCveryslowKmHigh.concs[:-1:,idxAl],label=\"KmHigh\")     \n",
      "plt.plot(resultsABslowCveryslow.ts[:-1:],resultsABslowCveryslow.concs[:-1:,idxAl],label=\"Orig\")\n",
      "plt.legend(loc=0)"
     ],
     "language": "python",
     "metadata": {},
     "outputs": [],
     "prompt_number": 13
    },
    {
     "cell_type": "code",
     "collapsed": true,
     "input": [
      "results = resultsABslowCveryslowKmLow\n",
      "plt.figure()\n",
      "plt.title(\"resultsABslowCveryslowKmLow\")\n",
      "plotconcssum(results.ts,results.concs,results.volFracs)\n",
      "plotODE(tode,yode)\n",
      "plotLineScans(results,figName=root+\"linescanresultsABslowCveryslowKmLowN.png\",sameClim=True)  \n",
      "plotLineScans(results,figName=root+\"linescanresultsABslowCveryslowKmLow.png\") "
     ],
     "language": "python",
     "metadata": {},
     "outputs": []
    },
    {
     "cell_type": "markdown",
     "metadata": {},
     "source": [
      "#### Compare profiles of A in compartment 1 and C in compartment 3 "
     ]
    },
    {
     "cell_type": "code",
     "collapsed": false,
     "input": [
      "z = np.arange(10)\n",
      "z[:-2]"
     ],
     "language": "python",
     "metadata": {},
     "outputs": [],
     "prompt_number": 10
    },
    {
     "cell_type": "code",
     "collapsed": false,
     "input": [
      "\n",
      "    \n",
      "#plt.figure()\n",
      "plt.subplot(121)\n",
      "plt.plot(resultsABslowCveryslow.ts[:-1], resultsABslowCveryslow.concs[:-1,idxAl],'r--',label=\"AB slow, C very slow\")\n",
      "plt.plot(resultsAllslow.ts[:-1],resultsAllslow.concs[:-1,idxAl],'r-',label=\"All slow\")\n",
      "plt.plot(resultsABslowCfast.ts[:-1], resultsABslowCfast.concs[:-1,idxAl],'r.',label=\"AB slow, C fast\")\n",
      "#plt.xlim([0,20])\n",
      "plt.ylabel(\"A$_1$\")\n",
      "plt.ylim([0,3.5])\n",
      "plt.xlabel(\"t [ms]\")\n",
      "plt.xlim([20,50])\n",
      "#plt.legend(loc=2,ncol=3)\n",
      "\n",
      "#plt.figure()\n",
      "plt.subplot(122)\n",
      "plt.plot(resultsABslowCveryslow.ts[:-1], resultsABslowCveryslow.concs[:-1,idxCr],'g--',label=\"AB slow, C very slow\")\n",
      "plt.plot(resultsAllslow.ts[:-1],resultsAllslow.concs[:-1,idxCr],'g-',label=\"All slow\")\n",
      "plt.plot(resultsABslowCfast.ts[:-1], resultsABslowCfast.concs[:-1,idxCr],'g.',label=\"AB slow, C fast\")\n",
      "#plt.xlim([0,20])\n",
      "plt.ylabel(\"C$_3$\")\n",
      "plt.xlabel(\"t [ms]\")\n",
      "plt.xlim([20,50])\n",
      "plt.ylim([0.5,2.2])\n",
      "plt.subplots_adjust(wspace=0.4)\n",
      "plt.legend(bbox_to_anchor=(1.3, 1.05),ncol=3)\n",
      "plt.gcf().savefig(root+\"acsfig2bxx.png\",dpi=300)"
     ],
     "language": "python",
     "metadata": {},
     "outputs": [],
     "prompt_number": 11
    },
    {
     "cell_type": "code",
     "collapsed": false,
     "input": [
      "n=5\n",
      "Ds = 10**np.linspace(1,3-(1/n),n) / 1000. # [um^2/ms]\n",
      "print Ds"
     ],
     "language": "python",
     "metadata": {},
     "outputs": [],
     "prompt_number": 12
    },
    {
     "cell_type": "markdown",
     "metadata": {},
     "source": [
      "### Frequency shifts\n",
      "<code>\n",
      "python coupledReactionDiffusion3comp.py -genFreq\n",
      "</code>"
     ]
    },
    {
     "cell_type": "code",
     "collapsed": true,
     "input": [
      "from coupledReactionDiffusion3comp import *\n",
      "from analysis import *\n",
      "import numpy as np\n",
      "pklName = \"freqshift.pkl\"\n",
      "fileName=\"none\"\n",
      "\n",
      "if 0:\n",
      "  pklName = \"freqshiftTest.pkl\"  \n",
      "  t, yts = genFreqShifts(n=4,intv=1,steps=1000,pklName =pklName )    "
     ],
     "language": "python",
     "metadata": {},
     "outputs": [],
     "prompt_number": 15
    },
    {
     "cell_type": "code",
     "collapsed": false,
     "input": [
      "np.shape(yts)"
     ],
     "language": "python",
     "metadata": {},
     "outputs": [],
     "prompt_number": 14
    },
    {
     "cell_type": "code",
     "collapsed": false,
     "input": [
      "plt.plot(yts[0,:])\n",
      "plt.plot(yts[1,:])\n",
      "plt.plot(yts[2,:])\n",
      "plt.plot(yts[3,:])\n",
      "plt.plot(yts[4,:])"
     ],
     "language": "python",
     "metadata": {},
     "outputs": [],
     "prompt_number": 15
    },
    {
     "cell_type": "code",
     "collapsed": true,
     "input": [
      "it0,psd0 = freq(yts[0,:],t,doplot=True,oldstuff=False);\n",
      "it1, psd1 =freq(yts[1,:],t,doplot=True,oldstuff=False);\n",
      "it2, psd2 =freq(yts[2,:],t,doplot=True,oldstuff=False);\n",
      "it3, psd3 =freq(yts[3,:],t,doplot=True,oldstuff=False);\n",
      "xlim([0,2])"
     ],
     "language": "python",
     "metadata": {},
     "outputs": []
    },
    {
     "cell_type": "code",
     "collapsed": false,
     "input": [
      "conv = 50 # not sure why I am off by factor of 10 (s.b. 1s --> 1000 ms)\n",
      "plt.plot(it0*conv,psd0)\n",
      "#plt.plot(it1,psd1)\n",
      "#plt.plot(it2,psd2)\n",
      "#plt.plot(it3,psd3)\n",
      "plt.xlim([0,1*conv])"
     ],
     "language": "python",
     "metadata": {},
     "outputs": [],
     "prompt_number": 17
    },
    {
     "cell_type": "code",
     "collapsed": true,
     "input": [
      "root = \"/home/huskeypm/papers/changsunpapers/compartment/figs/\""
     ],
     "language": "python",
     "metadata": {},
     "outputs": [],
     "prompt_number": 27
    },
    {
     "cell_type": "code",
     "collapsed": false,
     "input": [
      "from coupledReactionDiffusion3comp import *\n",
      "from analysis import *\n",
      "\n",
      "yts,nf,Ds = readpickle(pklName)\n",
      "#ref=1e2\n",
      "#ref=0.1 # um^2/ms\n",
      "DATP = 0.145\n",
      "nearest = np.abs(Ds-DATP).argmin()\n",
      "\n",
      "D0rate = 1\n",
      "plt.plot(Ds,nf*conv,'k.-')\n",
      "plt.plot(Ds[nearest],nf[nearest]*conv,'bo',label=\"D=%4.1f\"%DATP)\n",
      "plt.xlabel(\"D$_C$ [$\\mu m^2$/ms]\")\n",
      "plt.ylabel(\"Frequency [Hz]\")\n",
      "plt.xscale(\"log\")\n",
      "plt.legend(loc=0)\n",
      "plt.xlim([0.01,1.0])\n",
      "#plt.yscale(\"log\")\n",
      "plt.gcf().savefig(root+\"acsfig2c.png\")"
     ],
     "language": "python",
     "metadata": {},
     "outputs": [],
     "prompt_number": 28
    },
    {
     "cell_type": "code",
     "collapsed": true,
     "input": [],
     "language": "python",
     "metadata": {},
     "outputs": []
    }
   ],
   "metadata": {}
  }
 ]
}