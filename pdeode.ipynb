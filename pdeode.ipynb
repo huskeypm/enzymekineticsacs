{
 "metadata": {
  "name": "pdeode"
 }, 
 "nbformat": 2, 
 "worksheets": [
  {
   "cells": [
    {
     "cell_type": "markdown", 
     "source": [
      "### Connecting ODE compartment to PDE diff. domain"
     ]
    }, 
    {
     "cell_type": "markdown", 
     "source": [
      "Todo", 
      "- reduce to 1D", 
      "- add B,C", 
      "- add right hand compartment", 
      "- add reactions in scalar domain "
     ]
    }, 
    {
     "cell_type": "code", 
     "collapsed": true, 
     "input": [
      "# from Johan", 
      "#%loadpy scalar-channel-flux.py"
     ], 
     "language": "python", 
     "outputs": [], 
     "prompt_number": 1
    }, 
    {
     "cell_type": "code", 
     "collapsed": true, 
     "input": [
      "from dolfin import *", 
      "mesh = Mesh(\"channel-mesh-0.xml.gz\")", 
      "face_markers = MeshFunction(\"uint\",mesh, \"channel-mesh-0_face_markers.xml.gz\")", 
      "ds = Measure(\"ds\")[face_markers]"
     ], 
     "language": "python", 
     "outputs": [], 
     "prompt_number": 1
    }, 
    {
     "cell_type": "code", 
     "collapsed": false, 
     "input": [
      "# FiniteElements", 
      "V = FunctionSpace(mesh, \"CG\", 1)", 
      "R = FunctionSpace(mesh, \"R\", 0) ## PKH what basis is this? [for scalar domain]", 
      "VR = V*R", 
      "", 
      "v, p = TestFunctions(VR)", 
      "", 
      "U_n = Function(VR)", 
      "U_0 = Function(VR)", 
      "u_n, s_n = split(U_n)", 
      "u_0, s_0 = split(U_0)", 
      "", 
      "# Params", 
      "D = Constant(1.0)", 
      "dist = Constant(1.0) ## PKH what is the distance: between scalar 'vertex' and PDE boundary vertices", 
      "dt = Constant(0.25)", 
      "#volume = Constant(assemble(Constant(1.0)*dx()))", 
      "volume = Constant(assemble(Constant(1.0)*dx,mesh=mesh))", 
      "area = Constant(assemble(Constant(1.0)*ds(10),mesh=mesh))", 
      "volume_scalar = Constant(4.*float(volume))", 
      "volume_frac = volume/volume_scalar ", 
      "", 
      "", 
      "# System", 
      "", 
      "# Time derivative and diffusion of field species", 
      "F = ((u_n-u_0)*v/dt + D*inner(grad(u_n), grad(v)))*dx()", 
      "#F = ((u_n-u_0)*v/dt + D*inner(grad(u_n), grad(v)))*dx(0)", 
      "", 
      "# Flux to mesh domain", 
      "F -= D*(s_n-u_n)*v/dist*ds(10) # this is a flux based on the 'local' concentration", 
      "", 
      "# Time derivative of scalar species and flux from scalar domain ", 
      "F += (s_n-s_0)*p/(dt*volume_frac)*dx() + D*(s_n-u_n)*p/dist*ds(10)", 
      "#F += (s_n-s_0)*p/(dt*volume_frac)*dx(0) + D*(s_n-u_n)*p/dist*ds(10)", 
      "", 
      "# Init conditions", 
      "scalar_0 = 10.", 
      "field_0 = 20.", 
      "U_0.interpolate(Constant((field_0, scalar_0)))", 
      "", 
      "# Ranges for plotting", 
      "min_value = min(field_0, scalar_0)", 
      "max_value = max(field_0, scalar_0)", 
      "", 
      "t=0", 
      "tstop = 10.", 
      "U_plot = Function(V)", 
      "#plot(U_plot, interactive=True, range_min=min_value, range_max=max_value)", 
      "pdeDomConc=[]", 
      "odeDomConc=[]", 
      "ts=[]", 
      "file = File(\"results.pvd\")", 
      "while t < tstop+DOLFIN_EPS:", 
      "    solve(F==0, U_n)", 
      "    #U_plot.assign(U_n.sub(0, deepcopy=True))", 
      "    #plot(U_plot, interactive=False, range_min=min_value, range_max=max_value)", 
      "    print \"CONSERVATION:\", assemble(u_n*dx())+assemble(s_n/volume_frac*dx())", 
      "    pdeDomConc.append(assemble(u_n*dx()))", 
      "    odeDomConc.append(assemble(s_n/volume_frac*dx()))", 
      "    ts.append(t)", 
      "    file << U_n", 
      "    U_0.assign(U_n)", 
      "    t += float(dt)", 
      "", 
      "#plot(U_plot, interactive=True, range_min=min_value, range_max=max_value)"
     ], 
     "language": "python", 
     "outputs": [
      {
       "output_type": "stream", 
       "stream": "stdout", 
       "text": [
        "CONSERVATION: 60000.0", 
        "CONSERVATION:"
       ]
      }, 
      {
       "output_type": "stream", 
       "stream": "stdout", 
       "text": [
        " 60000.0", 
        "CONSERVATION:"
       ]
      }, 
      {
       "output_type": "stream", 
       "stream": "stdout", 
       "text": [
        " 60000.0", 
        "CONSERVATION:"
       ]
      }, 
      {
       "output_type": "stream", 
       "stream": "stdout", 
       "text": [
        " 60000.0", 
        "CONSERVATION:"
       ]
      }, 
      {
       "output_type": "stream", 
       "stream": "stdout", 
       "text": [
        " 60000.0", 
        "CONSERVATION:"
       ]
      }, 
      {
       "output_type": "stream", 
       "stream": "stdout", 
       "text": [
        " 60000.0", 
        "CONSERVATION:"
       ]
      }, 
      {
       "output_type": "stream", 
       "stream": "stdout", 
       "text": [
        " 60000.0", 
        "CONSERVATION:"
       ]
      }, 
      {
       "output_type": "stream", 
       "stream": "stdout", 
       "text": [
        " 60000.0", 
        "CONSERVATION:"
       ]
      }, 
      {
       "output_type": "stream", 
       "stream": "stdout", 
       "text": [
        " 60000.0", 
        "CONSERVATION:"
       ]
      }, 
      {
       "output_type": "stream", 
       "stream": "stdout", 
       "text": [
        " 60000.0", 
        "CONSERVATION:"
       ]
      }, 
      {
       "output_type": "stream", 
       "stream": "stdout", 
       "text": [
        " 60000.0", 
        "CONSERVATION:"
       ]
      }, 
      {
       "output_type": "stream", 
       "stream": "stdout", 
       "text": [
        " 60000.0", 
        "CONSERVATION:"
       ]
      }, 
      {
       "output_type": "stream", 
       "stream": "stdout", 
       "text": [
        " 60000.0", 
        "CONSERVATION:"
       ]
      }, 
      {
       "output_type": "stream", 
       "stream": "stdout", 
       "text": [
        " 60000.0", 
        "CONSERVATION:"
       ]
      }, 
      {
       "output_type": "stream", 
       "stream": "stdout", 
       "text": [
        " 60000.0", 
        "CONSERVATION:"
       ]
      }, 
      {
       "output_type": "stream", 
       "stream": "stdout", 
       "text": [
        " 60000.0", 
        "CONSERVATION:"
       ]
      }, 
      {
       "output_type": "stream", 
       "stream": "stdout", 
       "text": [
        " 60000.0", 
        "CONSERVATION:"
       ]
      }, 
      {
       "output_type": "stream", 
       "stream": "stdout", 
       "text": [
        " 60000.0", 
        "CONSERVATION:"
       ]
      }, 
      {
       "output_type": "stream", 
       "stream": "stdout", 
       "text": [
        " 60000.0", 
        "CONSERVATION:"
       ]
      }, 
      {
       "output_type": "stream", 
       "stream": "stdout", 
       "text": [
        " 60000.0", 
        "CONSERVATION:"
       ]
      }, 
      {
       "output_type": "stream", 
       "stream": "stdout", 
       "text": [
        " 60000.0", 
        "CONSERVATION:"
       ]
      }, 
      {
       "output_type": "stream", 
       "stream": "stdout", 
       "text": [
        " 60000.0", 
        "CONSERVATION:"
       ]
      }, 
      {
       "output_type": "stream", 
       "stream": "stdout", 
       "text": [
        " 60000.0", 
        "CONSERVATION:"
       ]
      }, 
      {
       "output_type": "stream", 
       "stream": "stdout", 
       "text": [
        " 60000.0", 
        "CONSERVATION:"
       ]
      }, 
      {
       "output_type": "stream", 
       "stream": "stdout", 
       "text": [
        " 60000.0", 
        "CONSERVATION:"
       ]
      }, 
      {
       "output_type": "stream", 
       "stream": "stdout", 
       "text": [
        " 60000.0", 
        "CONSERVATION:"
       ]
      }, 
      {
       "output_type": "stream", 
       "stream": "stdout", 
       "text": [
        " 60000.0", 
        "CONSERVATION:"
       ]
      }, 
      {
       "output_type": "stream", 
       "stream": "stdout", 
       "text": [
        " 60000.0", 
        "CONSERVATION:"
       ]
      }, 
      {
       "output_type": "stream", 
       "stream": "stdout", 
       "text": [
        " 60000.0", 
        "CONSERVATION:"
       ]
      }, 
      {
       "output_type": "stream", 
       "stream": "stdout", 
       "text": [
        " 60000.0", 
        "CONSERVATION:"
       ]
      }, 
      {
       "output_type": "stream", 
       "stream": "stdout", 
       "text": [
        " 60000.0", 
        "CONSERVATION:"
       ]
      }, 
      {
       "output_type": "stream", 
       "stream": "stdout", 
       "text": [
        " 60000.0", 
        "CONSERVATION:"
       ]
      }, 
      {
       "output_type": "stream", 
       "stream": "stdout", 
       "text": [
        " 60000.0", 
        "CONSERVATION:"
       ]
      }, 
      {
       "output_type": "stream", 
       "stream": "stdout", 
       "text": [
        " 60000.0", 
        "CONSERVATION:"
       ]
      }, 
      {
       "output_type": "stream", 
       "stream": "stdout", 
       "text": [
        " 60000.0", 
        "CONSERVATION:"
       ]
      }, 
      {
       "output_type": "stream", 
       "stream": "stdout", 
       "text": [
        " 60000.0", 
        "CONSERVATION:"
       ]
      }, 
      {
       "output_type": "stream", 
       "stream": "stdout", 
       "text": [
        " 60000.0", 
        "CONSERVATION:"
       ]
      }, 
      {
       "output_type": "stream", 
       "stream": "stdout", 
       "text": [
        " 60000.0", 
        "CONSERVATION:"
       ]
      }, 
      {
       "output_type": "stream", 
       "stream": "stdout", 
       "text": [
        " 60000.0", 
        "CONSERVATION:"
       ]
      }, 
      {
       "output_type": "stream", 
       "stream": "stdout", 
       "text": [
        " 60000.0"
       ]
      }
     ], 
     "prompt_number": 5
    }, 
    {
     "cell_type": "code", 
     "collapsed": false, 
     "input": [
      "pdeDomConc = np.asarray(pdeDomConc)", 
      "odeDomConc = np.asarray(odeDomConc)", 
      "ts = np.asarray(ts)", 
      "", 
      "", 
      "fig, ax1 = plt.subplots()", 
      "ax1.plot(ts,pdeDomConc,'b',label=\"PDE\")", 
      "ax2 = ax1.twinx()", 
      "ax2.plot(ts,odeDomConc,'b--',label=\"ODE\")", 
      "plt.legend()"
     ], 
     "language": "python", 
     "outputs": [
      {
       "output_type": "pyout", 
       "prompt_number": 7, 
       "text": [
        "<matplotlib.legend.Legend at 0x457b810>"
       ]
      }, 
      {
       "output_type": "display_data", 
       "png": "[encoded data removed]"
      }
     ], 
     "prompt_number": 7
    }, 
    {
     "cell_type": "code", 
     "collapsed": false, 
     "input": [
      "print np.min(mesh.coordinates(),axis=0)", 
      "print np.max(mesh.coordinates(),axis=0)", 
      "if(1):", 
      "    s0 = project(u_n,FunctionSpace(mesh,'Lagrange',1))", 
      "    #(s0,s1) = up.split(deepcopy=True)", 
      "    ", 
      "    res = 100", 
      "    (gx,gy,gz) = np.mgrid[0:10:(res*1j),5:5,0:10:(res*1j)]", 
      "    from scipy.interpolate import griddata", 
      "    img0 = griddata(mesh.coordinates(),s0.vector(),(gx,gy,gz))", 
      "    ", 
      "imgx=np.reshape(img0,[res,res])"
     ], 
     "language": "python", 
     "outputs": [
      {
       "ename": "ValueError", 
       "evalue": "total size of new array must be unchanged", 
       "output_type": "pyerr", 
       "traceback": [
        "\u001b[0;31m---------------------------------------------------------------------------\u001b[0m\n\u001b[0;31mValueError\u001b[0m                                Traceback (most recent call last)", 
        "\u001b[0;32m/u2/huskeypm/Sources/enzymekineticsacs/<ipython-input-55-30e8344a9b2d>\u001b[0m in \u001b[0;36m<module>\u001b[0;34m()\u001b[0m\n\u001b[1;32m     10\u001b[0m     \u001b[0mimg0\u001b[0m \u001b[0;34m=\u001b[0m \u001b[0mgriddata\u001b[0m\u001b[0;34m(\u001b[0m\u001b[0mmesh\u001b[0m\u001b[0;34m.\u001b[0m\u001b[0mcoordinates\u001b[0m\u001b[0;34m(\u001b[0m\u001b[0;34m)\u001b[0m\u001b[0;34m,\u001b[0m\u001b[0ms0\u001b[0m\u001b[0;34m.\u001b[0m\u001b[0mvector\u001b[0m\u001b[0;34m(\u001b[0m\u001b[0;34m)\u001b[0m\u001b[0;34m,\u001b[0m\u001b[0;34m(\u001b[0m\u001b[0mgx\u001b[0m\u001b[0;34m,\u001b[0m\u001b[0mgy\u001b[0m\u001b[0;34m,\u001b[0m\u001b[0mgz\u001b[0m\u001b[0;34m)\u001b[0m\u001b[0;34m)\u001b[0m\u001b[0;34m\u001b[0m\u001b[0m\n\u001b[1;32m     11\u001b[0m \u001b[0;34m\u001b[0m\u001b[0m\n\u001b[0;32m---> 12\u001b[0;31m \u001b[0mimgx\u001b[0m\u001b[0;34m=\u001b[0m\u001b[0mnp\u001b[0m\u001b[0;34m.\u001b[0m\u001b[0mreshape\u001b[0m\u001b[0;34m(\u001b[0m\u001b[0mimg0\u001b[0m\u001b[0;34m,\u001b[0m\u001b[0;34m[\u001b[0m\u001b[0mres\u001b[0m\u001b[0;34m,\u001b[0m\u001b[0mres\u001b[0m\u001b[0;34m]\u001b[0m\u001b[0;34m)\u001b[0m\u001b[0;34m\u001b[0m\u001b[0m\n\u001b[0m", 
        "\u001b[0;32m/usr/lib/python2.7/dist-packages/numpy/core/fromnumeric.pyc\u001b[0m in \u001b[0;36mreshape\u001b[0;34m(a, newshape, order)\u001b[0m\n\u001b[1;32m    169\u001b[0m     \u001b[0;32mexcept\u001b[0m \u001b[0mAttributeError\u001b[0m\u001b[0;34m:\u001b[0m\u001b[0;34m\u001b[0m\u001b[0m\n\u001b[1;32m    170\u001b[0m         \u001b[0;32mreturn\u001b[0m \u001b[0m_wrapit\u001b[0m\u001b[0;34m(\u001b[0m\u001b[0ma\u001b[0m\u001b[0;34m,\u001b[0m \u001b[0;34m'reshape'\u001b[0m\u001b[0;34m,\u001b[0m \u001b[0mnewshape\u001b[0m\u001b[0;34m,\u001b[0m \u001b[0morder\u001b[0m\u001b[0;34m=\u001b[0m\u001b[0morder\u001b[0m\u001b[0;34m)\u001b[0m\u001b[0;34m\u001b[0m\u001b[0m\n\u001b[0;32m--> 171\u001b[0;31m     \u001b[0;32mreturn\u001b[0m \u001b[0mreshape\u001b[0m\u001b[0;34m(\u001b[0m\u001b[0mnewshape\u001b[0m\u001b[0;34m,\u001b[0m \u001b[0morder\u001b[0m\u001b[0;34m=\u001b[0m\u001b[0morder\u001b[0m\u001b[0;34m)\u001b[0m\u001b[0;34m\u001b[0m\u001b[0m\n\u001b[0m\u001b[1;32m    172\u001b[0m \u001b[0;34m\u001b[0m\u001b[0m\n\u001b[1;32m    173\u001b[0m \u001b[0;34m\u001b[0m\u001b[0m\n", 
        "\u001b[0;31mValueError\u001b[0m: total size of new array must be unchanged"
       ]
      }, 
      {
       "output_type": "stream", 
       "stream": "stdout", 
       "text": [
        "[ 0.  0.  0.]", 
        "[ 10.  10.  10.]"
       ]
      }
     ], 
     "prompt_number": 55
    }, 
    {
     "cell_type": "code", 
     "collapsed": false, 
     "input": [
      "print np.shape(np.asarray( img0))", 
      "#pcolormesh(img0[1:10,0,1:10])"
     ], 
     "language": "python", 
     "outputs": [
      {
       "output_type": "stream", 
       "stream": "stdout", 
       "text": [
        "(100, 0, 100)"
       ]
      }
     ], 
     "prompt_number": 64
    }, 
    {
     "cell_type": "code", 
     "collapsed": true, 
     "input": [
      "s0.vector"
     ], 
     "language": "python", 
     "outputs": []
    }
   ]
  }
 ]
}